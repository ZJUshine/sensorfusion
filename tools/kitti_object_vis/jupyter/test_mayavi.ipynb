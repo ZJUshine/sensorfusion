{
 "cells": [
  {
   "cell_type": "code",
   "execution_count": 1,
   "metadata": {},
   "outputs": [
    {
     "ename": "ModuleNotFoundError",
     "evalue": "No module named 'xvfbwrapper'",
     "output_type": "error",
     "traceback": [
      "\u001b[0;31m---------------------------------------------------------------------------\u001b[0m",
      "\u001b[0;31mModuleNotFoundError\u001b[0m                       Traceback (most recent call last)",
      "Cell \u001b[0;32mIn[1], line 1\u001b[0m\n\u001b[0;32m----> 1\u001b[0m \u001b[39mfrom\u001b[39;00m \u001b[39mxvfbwrapper\u001b[39;00m \u001b[39mimport\u001b[39;00m Xvfb\n\u001b[1;32m      2\u001b[0m vdisplay \u001b[39m=\u001b[39m Xvfb(width\u001b[39m=\u001b[39m\u001b[39m1920\u001b[39m, height\u001b[39m=\u001b[39m\u001b[39m1080\u001b[39m)\n\u001b[1;32m      3\u001b[0m vdisplay\u001b[39m.\u001b[39mstart()\n",
      "\u001b[0;31mModuleNotFoundError\u001b[0m: No module named 'xvfbwrapper'"
     ]
    }
   ],
   "source": [
    "from xvfbwrapper import Xvfb\n",
    "vdisplay = Xvfb(width=1920, height=1080)\n",
    "vdisplay.start()\n",
    "\n",
    "from mayavi import mlab\n",
    "mlab.init_notebook('x3d', 800, 450)\n",
    "s = mlab.test_plot3d()\n",
    "s"
   ]
  }
 ],
 "metadata": {
  "kernelspec": {
   "display_name": "Python 3",
   "language": "python",
   "name": "python3"
  },
  "language_info": {
   "codemirror_mode": {
    "name": "ipython",
    "version": 3
   },
   "file_extension": ".py",
   "mimetype": "text/x-python",
   "name": "python",
   "nbconvert_exporter": "python",
   "pygments_lexer": "ipython3",
   "version": "3.8.17"
  },
  "widgets": {
   "application/vnd.jupyter.widget-state+json": {
    "state": {},
    "version_major": 2,
    "version_minor": 0
   }
  }
 },
 "nbformat": 4,
 "nbformat_minor": 4
}
